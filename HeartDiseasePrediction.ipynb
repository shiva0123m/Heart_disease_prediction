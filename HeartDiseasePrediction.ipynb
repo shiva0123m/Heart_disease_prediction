{
  "nbformat": 4,
  "nbformat_minor": 0,
  "metadata": {
    "colab": {
      "provenance": []
    },
    "kernelspec": {
      "name": "python3",
      "display_name": "Python 3"
    },
    "language_info": {
      "name": "python"
    }
  },
  "cells": [
    {
      "cell_type": "code",
      "execution_count": null,
      "metadata": {
        "id": "R0aEmb-9uin-",
        "colab": {
          "base_uri": "https://localhost:8080/"
        },
        "outputId": "8460922e-d258-4f96-c848-f1d48920b196"
      },
      "outputs": [
        {
          "output_type": "stream",
          "name": "stdout",
          "text": [
            "The trained model has been saved to 'best_model.pkl'.\n",
            "Enter your age: 22\n",
            "Enter your sex (0 for female, 1 for male): 1\n",
            "Enter your chest pain type (1-4): 1\n",
            "Enter your resting blood pressure: 120\n",
            "Enter your cholesterol level: 150\n",
            "Enter your maximum heart rate achieved: 220\n",
            "Enter your fasting blood sugar (1 for > 120 mg/dL, 0 for <= 120 mg/dL): 120\n",
            "Enter your resting electrocardiographic results (0-2): 1\n",
            "Enter exercise induced angina (1 for yes, 0 for no): 0\n",
            "Enter ST depression induced by exercise relative to rest (in mm): 0\n",
            "Enter the slope of the peak exercise ST segment (0-2): 0\n",
            "Enter the number of major vessels colored by fluoroscopy (0-3): 1\n",
            "Enter Thalassemia type (1-3): 1\n",
            "Based on the input, you may not have heart disease.\n"
          ]
        }
      ],
      "source": [
        "import pandas as pd\n",
        "from sklearn.preprocessing import StandardScaler\n",
        "from sklearn.decomposition import PCA\n",
        "from sklearn.model_selection import train_test_split\n",
        "from sklearn.linear_model import LogisticRegression\n",
        "from sklearn.svm import SVC\n",
        "import joblib\n",
        "\n",
        "import warnings\n",
        "warnings.filterwarnings(\"ignore\", message=\"X does not have valid feature names\")\n",
        "\n",
        "# Load and preprocess the dataset\n",
        "data = pd.read_csv('heart.csv')\n",
        "X = data.drop('target', axis=1)\n",
        "y = data['target']\n",
        "\n",
        "\n",
        "# Split the data into training and testing sets\n",
        "X_train, X_test, y_train, y_test = train_test_split(X, y, test_size=0.2, random_state=42)\n",
        "\n",
        "# Train a Logistic Regression model\n",
        "scaler = StandardScaler()\n",
        "X_trained = scaler.fit_transform(X_train)\n",
        "X_tested = scaler.fit(X_test)\n",
        "svm = SVC(random_state=42,kernel='linear')\n",
        "svm.fit(X_trained, y_train)\n",
        "\n",
        "\n",
        "# Assuming 'best_model' is the trained model you want to save\n",
        "best_model = svm# Change this to the actual best model\n",
        "\n",
        "# Save the trained model to a pickle file\n",
        "model_filename = 'best_model.pkl'\n",
        "joblib.dump(best_model, model_filename)\n",
        "\n",
        "print(f\"The trained model has been saved to '{model_filename}'.\")\n",
        "# Load the saved model from the pickle file\n",
        "loaded_model = joblib.load('best_model.pkl')\n",
        "\n",
        "# Now you can use the loaded_model for predictions\n",
        "\n",
        "# Load the SVM model from the pickle file\n",
        "loaded_svm_model = joblib.load('best_model.pkl')\n",
        "\n",
        "# User input for health parameters\n",
        "age = float(input(\"Enter your age: \"))\n",
        "sex = int(input(\"Enter your sex (0 for female, 1 for male): \"))\n",
        "cp = int(input(\"Enter your chest pain type (1-4): \"))\n",
        "trestbps = float(input(\"Enter your resting blood pressure: \"))\n",
        "chol = float(input(\"Enter your cholesterol level: \"))\n",
        "thalach = float(input(\"Enter your maximum heart rate achieved: \"))\n",
        "fbs = int(input(\"Enter your fasting blood sugar (1 for > 120 mg/dL, 0 for <= 120 mg/dL): \"))\n",
        "restecg = int(input(\"Enter your resting electrocardiographic results (0-2): \"))\n",
        "exang = int(input(\"Enter exercise induced angina (1 for yes, 0 for no): \"))\n",
        "oldpeak = float(input(\"Enter ST depression induced by exercise relative to rest (in mm): \"))\n",
        "slope = int(input(\"Enter the slope of the peak exercise ST segment (0-2): \"))\n",
        "ca = int(input(\"Enter the number of major vessels colored by fluoroscopy (0-3): \"))\n",
        "thal = int(input(\"Enter Thalassemia type (1-3): \"))\n",
        "\n",
        "# Transform user input into a format that matches the model's input features\n",
        "user_input = [[age, sex, cp, trestbps, chol, thalach, fbs, restecg, exang, oldpeak, slope, ca, thal]]\n",
        "\n",
        "# Make a prediction using the loaded SVM model\n",
        "prediction = loaded_svm_model.predict(user_input)\n",
        "\n",
        "if prediction[0] == 1:\n",
        "    print(\"Based on the input, you may have heart disease.\")\n",
        "else:\n",
        "    print(\"Based on the input, you may not have heart disease.\")"
      ]
    }
  ]
}